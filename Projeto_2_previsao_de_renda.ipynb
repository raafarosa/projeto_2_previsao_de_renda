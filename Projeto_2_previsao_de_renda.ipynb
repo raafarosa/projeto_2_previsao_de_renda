{
 "cells": [
  {
   "cell_type": "markdown",
   "metadata": {},
   "source": [
    "<img src=\"https://raw.githubusercontent.com/rhatiro/previsao-renda/main/ebac-course-utils/media/logo/newebac_logo_black_half.png\" alt=\"ebac-logo\">\n",
    "\n",
    "---\n",
    "\n",
    "# **Profissão: Cientista de Dados**\n",
    "### **Projeto #02** | Previsão de renda\n",
    "\n",
    "**Aluno:** [Rafael Rosa](https://www.linkedin.com/in/rafael-rosa-alves/)<br>\n",
    "\n",
    "---"
   ]
  },
  {
   "cell_type": "markdown",
   "metadata": {},
   "source": [
    "# <div style=\"text-align:center\"> Projeto 02 - Previsão de renda </div>"
   ]
  },
  {
   "cell_type": "markdown",
   "metadata": {},
   "source": [
    "## Etapa 1 CRISP - DM: Entendimento do negócio\n",
    "\n",
    "Uma instituição financeira está interessada em aprofundar sua compreensão do perfil de renda de seus novos clientes para várias finalidades, como ajustar de forma mais precisa os limites de crédito dos cartões dos novos clientes, sem a necessidade de solicitar olerites ou documentação que possa afetar a experiência do cliente.\n",
    "\n",
    "Com esse objetivo, realizou um estudo com alguns clientes, validando suas rendas por meio de olerites e outros documentos, e tem a intenção de desenvolver um modelo preditivo para prever essas rendas com base em algumas variáveis já presentes em seu banco de dados."
   ]
  },
  {
   "cell_type": "markdown",
   "metadata": {},
   "source": [
    "## Etapa 2 Crisp-DM: Entendimento dos dados"
   ]
  },
  {
   "cell_type": "markdown",
   "metadata": {},
   "source": [
    "### Dicionário de dados <a name=\"dicionario\"></a>\n",
    "\n",
    "| Variável              | Descrição                                                                                                  | Tipo             |\n",
    "| --------------------- |:----------------------------------------------------------------------------------------------------------:| ----------------:|\n",
    "| data_ref              | Data de referência de coleta das variáveis                                                                 | object           |\n",
    "| id_cliente            | Código identificador exclusivo do cliente                                                                  | int              |\n",
    "| sexo                  | Sexo do cliente (M = 'Masculino'; F = 'Feminino')                                                          | object (binária) |\n",
    "| posse_de_veiculo      | Indica se o cliente possui veículo (True = 'Possui veículo'; False = 'Não possui veículo')                 | bool (binária)   |\n",
    "| posse_de_imovel       | Indica se o cliente possui imóvel (True = 'Possui imóvel'; False = 'Não possui imóvel')                    | bool (binária)   |\n",
    "| qtd_filhos            | Quantidade de filhos do cliente                                                                            | int              |\n",
    "| tipo_renda            | Tipo de renda do cliente (Empresário, Assalariado, Servidor público, Pensionista, Bolsista)                | object           |\n",
    "| educacao              | Grau de instrução do cliente (Primário, Secundário, Superior incompleto, Superior completo, Pós graduação) | object           |\n",
    "| estado_civil          | Estado civil do cliente (Solteiro, União, Casado, Separado, Viúvo)                                         | object           |\n",
    "| tipo_residencia       | Tipo de residência do cliente (Casa, Governamental, Com os pais, Aluguel, Estúdio, Comunitário)            | object           |\n",
    "| idade                 | Idade do cliente em anos                                                                                   | int              |\n",
    "| tempo_emprego         | Tempo no emprego atual                                                                                     | float            |\n",
    "| qt_pessoas_residencia | Quantidade de pessoas que moram na residência                                                              | float            |\n",
    "| **renda**             | Valor numérico decimal representando a renda do cliente em reais                                           | float            |\n",
    "\n",
    "<div style=\"text-align: center\""
   ]
  },
  {
   "cell_type": "markdown",
   "metadata": {},
   "source": [
    "### Carregando pacotes necessários"
   ]
  },
  {
   "cell_type": "code",
   "execution_count": null,
   "metadata": {},
   "outputs": [],
   "source": [
    "##pip install ydata-profiling\n",
    "##pip install ipywidgets"
   ]
  },
  {
   "cell_type": "code",
   "execution_count": null,
   "metadata": {},
   "outputs": [],
   "source": [
    "import numpy as np\n",
    "import pandas as pd\n",
    "import matplotlib.pyplot as plt\n",
    "import seaborn as sns\n",
    "\n",
    "# from pandas_profiling import ProfileReport\n",
    "from ydata_profiling import ProfileReport\n",
    "import os\n",
    "\n",
    "from sklearn.model_selection import train_test_split\n",
    "from sklearn.tree import DecisionTreeRegressor\n",
    "from sklearn import tree\n",
    "\n",
    "%matplotlib inline"
   ]
  },
  {
   "cell_type": "markdown",
   "metadata": {},
   "source": [
    "### Carregando dados necessários\n",
    "\n",
    "O comando pd.read_csv é um comando da biblioteca pandas (pd.) e carrega os dados do arquivo csv indicado para um objeto *dataframe* do pandas."
   ]
  },
  {
   "cell_type": "code",
   "execution_count": null,
   "metadata": {},
   "outputs": [],
   "source": [
    "filepath = './input/previsao_de_renda.csv'\n",
    "renda = pd.read_csv(filepath_or_buffer=filepath)\n",
    "\n",
    "renda.info()\n",
    "renda"
   ]
  },
  {
   "cell_type": "code",
   "execution_count": null,
   "metadata": {},
   "outputs": [],
   "source": [
    "renda.nunique()"
   ]
  },
  {
   "cell_type": "code",
   "execution_count": null,
   "metadata": {},
   "outputs": [],
   "source": [
    "renda.drop(columns=['Unnamed: 0', 'id_cliente'], inplace=True)\n",
    "\n",
    "print('Quantidade total de linhas:', len(renda), '\\n')\n",
    "\n",
    "print('Quantidade de linhas duplicadas:', renda.duplicated().sum(), '\\n')\n",
    "\n",
    "print('Quantidade após remoção das linhas duplicadas:', \n",
    "      len(renda.drop_duplicates()), '\\n')\n",
    "\n",
    "renda.drop_duplicates(inplace=True, ignore_index=True)\n",
    "renda.info()"
   ]
  },
  {
   "cell_type": "markdown",
   "metadata": {},
   "source": [
    "### Entendimento dos dados - Univariada\n",
    "Nesta etapa tipicamente avaliamos a distribuição de todas as variáveis. "
   ]
  },
  {
   "cell_type": "markdown",
   "metadata": {},
   "source": [
    "#### Pandas Profiling – Relatório interativo para análise exploratória de dados"
   ]
  },
  {
   "cell_type": "code",
   "execution_count": null,
   "metadata": {},
   "outputs": [],
   "source": [
    "prof = ProfileReport(df=renda, \n",
    "                     minimal=False, \n",
    "                     explorative=True, \n",
    "                     dark_mode=True, \n",
    "                     orange_mode=True)\n",
    "os.makedirs(name='./output', exist_ok=True)\n",
    "prof.to_file('./output/renda_analysis.html')\n",
    "\n",
    "prof"
   ]
  },
  {
   "cell_type": "markdown",
   "metadata": {},
   "source": [
    "####  Estatísticas descritivas das variáveis quantitativas"
   ]
  },
  {
   "cell_type": "code",
   "execution_count": null,
   "metadata": {},
   "outputs": [],
   "source": [
    "renda.describe().transpose()"
   ]
  },
  {
   "cell_type": "markdown",
   "metadata": {},
   "source": [
    "### Entendimento dos dados - Bivariadas"
   ]
  },
  {
   "cell_type": "markdown",
   "metadata": {},
   "source": [
    "#### Matriz de correlação"
   ]
  },
  {
   "cell_type": "code",
   "execution_count": null,
   "metadata": {},
   "outputs": [],
   "source": [
    "(renda\n",
    " .iloc[:,3:]\n",
    " .corr()\n",
    " .tail(n=1)\n",
    ")"
   ]
  },
  {
   "cell_type": "markdown",
   "metadata": {},
   "source": [
    "Com base na matriz de correlação, nota-se que a variável `tempo_emprego` exibe a maior associação com a variável `renda`, apresentando um coeficiente de correlação de 38,5%."
   ]
  },
  {
   "cell_type": "markdown",
   "metadata": {},
   "source": [
    "#### Matriz de dispersão "
   ]
  },
  {
   "cell_type": "code",
   "execution_count": null,
   "metadata": {},
   "outputs": [],
   "source": [
    "sns.pairplot(data=renda, \n",
    "             hue='tipo_renda', \n",
    "             vars=['qtd_filhos', \n",
    "                   'idade', \n",
    "                   'tempo_emprego', \n",
    "                   'qt_pessoas_residencia', \n",
    "                   'renda'], \n",
    "             diag_kind='hist')\n",
    "\n",
    "plt.show()"
   ]
  },
  {
   "cell_type": "markdown",
   "metadata": {},
   "source": [
    "Ao examinar o *pairplot*, que é uma representação gráfica na forma de matriz de dispersão, é perceptível a presença de alguns *outliers* na variável `renda`, os quais têm o potencial de influenciar os resultados da análise de tendência, embora sejam pouco frequentes. Ademais, nota-se uma correlação fraca entre praticamente todas as variáveis quantitativas, corroborando os achados da matriz de correlação"
   ]
  },
  {
   "cell_type": "markdown",
   "metadata": {},
   "source": [
    "##### Clustermap"
   ]
  },
  {
   "cell_type": "code",
   "execution_count": null,
   "metadata": {},
   "outputs": [],
   "source": [
    "cmap = sns.diverging_palette(h_neg=100, \n",
    "                             h_pos=359, \n",
    "                             as_cmap=True, \n",
    "                             sep=1, \n",
    "                             center = 'light')\n",
    "\n",
    "ax = sns.clustermap(data=renda.corr(), \n",
    "               figsize=(10, 10), \n",
    "               center=0, \n",
    "               cmap=cmap)\n",
    "plt.setp(ax.ax_heatmap.get_xticklabels(), rotation=45)\n",
    "\n",
    "plt.show()"
   ]
  },
  {
   "cell_type": "markdown",
   "metadata": {},
   "source": [
    "Ao analisar o *pairplot*, uma representação gráfica na forma de matriz de dispersão, é evidente a presença de alguns *outliers* na variável `renda`, os quais possuem o potencial de impactar os resultados da análise de tendência, apesar de sua baixa frequência. Além disso, observa-se uma correlação fraca entre praticamente todas as variáveis quantitativas, o que confirma os resultados obtidos na matriz de correlação."
   ]
  },
  {
   "cell_type": "markdown",
   "metadata": {},
   "source": [
    "#####  Linha de tendência"
   ]
  },
  {
   "cell_type": "code",
   "execution_count": null,
   "metadata": {},
   "outputs": [],
   "source": [
    "plt.figure(figsize=(16,9))\n",
    "\n",
    "sns.scatterplot(x='tempo_emprego',\n",
    "                y='renda', \n",
    "                hue='tipo_renda', \n",
    "                size='idade',\n",
    "                data=renda,\n",
    "                alpha=0.4)\n",
    "\n",
    "# Linha de tendência:\n",
    "sns.regplot(x='tempo_emprego', \n",
    "            y='renda', \n",
    "            data=renda, \n",
    "            scatter=False, \n",
    "            color='.3')\n",
    "\n",
    "plt.show()"
   ]
  },
  {
   "cell_type": "markdown",
   "metadata": {},
   "source": [
    "Apesar de não ser tão alta, a correlação entre a variável `tempo_emprego` e a variável `renda` revela claramente uma covariância positiva, evidenciada pela inclinação da linha de tendência."
   ]
  },
  {
   "cell_type": "markdown",
   "metadata": {},
   "source": [
    "##### Análise de relevância preditiva com variáveis booleanas"
   ]
  },
  {
   "cell_type": "code",
   "execution_count": null,
   "metadata": {},
   "outputs": [],
   "source": [
    "plt.rc('figure', figsize=(12,4))\n",
    "fig, axes = plt.subplots(nrows=1, ncols=2)\n",
    "\n",
    "sns.pointplot(x='posse_de_imovel', \n",
    "              y='renda',  \n",
    "              data=renda, \n",
    "              dodge=True, \n",
    "              ax=axes[0])\n",
    "\n",
    "sns.pointplot(x='posse_de_veiculo', \n",
    "              y='renda', \n",
    "              data=renda, \n",
    "              dodge=True, \n",
    "              ax=axes[1])\n",
    "\n",
    "plt.show()"
   ]
  },
  {
   "cell_type": "markdown",
   "metadata": {},
   "source": [
    "Ao contrastar os gráficos acima, é evidente que a variável `posse_de_veículo` é mais relevante na predição de renda, como indicado pela maior disparidade entre os intervalos de confiança para aqueles que possuem e não possuem veículo. Em contrapartida, a variável `posse_de_imóvel` não mostra diferença significativa entre as diferentes condições de posse imobiliária."
   ]
  },
  {
   "cell_type": "code",
   "execution_count": null,
   "metadata": {},
   "outputs": [],
   "source": [
    "renda['data_ref'] = pd.to_datetime(arg=renda['data_ref'])\n",
    "\n",
    "qualitativas = renda.select_dtypes(include=['object', 'boolean']).columns\n",
    "\n",
    "plt.rc('figure', figsize=(16,4))\n",
    "\n",
    "for col in qualitativas:\n",
    "    fig, axes = plt.subplots(nrows=1, ncols=2)\n",
    "    fig.subplots_adjust(wspace=.6)\n",
    "    \n",
    "    tick_labels = renda['data_ref'].map(lambda x: x.strftime('%b/%Y')).unique()\n",
    "    \n",
    "    # barras empilhadas:\n",
    "    renda_crosstab = pd.crosstab(index=renda['data_ref'], \n",
    "                                 columns=renda[col], \n",
    "                                 normalize='index')\n",
    "    ax0 = renda_crosstab.plot.bar(stacked=True, \n",
    "                                  ax=axes[0])\n",
    "    ax0.set_xticklabels(labels=tick_labels, rotation=45)\n",
    "    axes[0].legend(bbox_to_anchor=(1, .5), loc=6, title=f\"'{col}'\")\n",
    "    \n",
    "    # perfis médios no tempo: \n",
    "    ax1 = sns.pointplot(x='data_ref', y='renda', hue=col, data=renda, dodge=True, ci=95, ax=axes[1])\n",
    "    ax1.set_xticklabels(labels=tick_labels, rotation=45)\n",
    "    axes[1].legend(bbox_to_anchor=(1, .5), loc=6, title=f\"'{col}'\")\n",
    "    \n",
    "    plt.show()"
   ]
  },
  {
   "cell_type": "markdown",
   "metadata": {},
   "source": [
    "---"
   ]
  },
  {
   "cell_type": "markdown",
   "metadata": {},
   "source": [
    "## Etapa 3 Crisp-DM: Preparação dos dados\n",
    "Nessa etapa realizamos tipicamente as seguintes operações com os dados:\n",
    "\n",
    " - **seleção**: Já temos os dados selecionados adequadamente?\n",
    " - **limpeza**: Precisaremos identificar e tratar dados faltantes\n",
    " - **construção**: construção de novas variáveis\n",
    " - **integração**: Temos apenas uma fonte de dados, não é necessário integração\n",
    " - **formatação**: Os dados já se encontram em formatos úteis?"
   ]
  },
  {
   "cell_type": "code",
   "execution_count": null,
   "metadata": {},
   "outputs": [],
   "source": [
    "renda.drop(columns='data_ref', inplace=True)\n",
    "renda.dropna(inplace=True)\n",
    "\n",
    "pd.DataFrame(index=renda.nunique().index, \n",
    "             data={'tipos_dados': renda.dtypes, \n",
    "                   'qtd_valores': renda.notna().sum(), \n",
    "                   'qtd_categorias': renda.nunique().values})"
   ]
  },
  {
   "cell_type": "markdown",
   "metadata": {},
   "source": [
    "### Conversão das variáveis categóricas em variáveis numéricas (dummies)"
   ]
  },
  {
   "cell_type": "code",
   "execution_count": null,
   "metadata": {},
   "outputs": [],
   "source": [
    "renda_dummies = pd.get_dummies(data=renda)\n",
    "renda_dummies.info()"
   ]
  },
  {
   "cell_type": "code",
   "execution_count": null,
   "metadata": {},
   "outputs": [],
   "source": [
    "(renda_dummies.corr()['renda']\n",
    "              .sort_values(ascending=False)\n",
    "              .to_frame()\n",
    "              .reset_index()\n",
    "              .rename(columns={'index':'var', \n",
    "                               'renda':'corr'})\n",
    "              .style.bar(color=['darkred', 'darkgreen'], align=0)\n",
    ")"
   ]
  },
  {
   "cell_type": "markdown",
   "metadata": {},
   "source": [
    "---"
   ]
  },
  {
   "cell_type": "markdown",
   "metadata": {},
   "source": [
    "## Etapa 4 Crisp-DM: Modelagem\n",
    "Nessa etapa que realizaremos a construção do modelo. Os passos típicos são:\n",
    "- Selecionar a técnica de modelagem\n",
    "- Desenho do teste\n",
    "- Avaliação do modelo"
   ]
  },
  {
   "cell_type": "markdown",
   "metadata": {},
   "source": [
    "Optamos pelo DecisionTreeRegressor como técnica, dada sua aptidão para lidar com problemas de regressão, como a previsão de renda dos clientes. Além disso, as árvores de decisão são de fácil interpretação e possibilitam a identificação dos atributos mais relevantes para a previsão da variável-alvo, o que a torna uma escolha sólida para o projeto."
   ]
  },
  {
   "cell_type": "markdown",
   "metadata": {},
   "source": [
    "### Divisão da base em treino e teste"
   ]
  },
  {
   "cell_type": "code",
   "execution_count": null,
   "metadata": {},
   "outputs": [],
   "source": [
    "X = renda_dummies.drop(columns='renda')\n",
    "y = renda_dummies['renda']\n",
    "\n",
    "print('Quantidade de linhas e colunas de X:', X.shape)\n",
    "print('Quantidade de linhas de y:', len(y))\n",
    "\n",
    "X_train, X_test, y_train, y_test = train_test_split(X, y, test_size=0.25, random_state=42)\n",
    "\n",
    "print('X_train:', X_train.shape)\n",
    "print('X_test:', X_test.shape)\n",
    "print('y_train:', y_train.shape)\n",
    "print('y_test:', y_test.shape)"
   ]
  },
  {
   "cell_type": "markdown",
   "metadata": {},
   "source": [
    "### Seleção de hiperparâmetros do modelo com for loop"
   ]
  },
  {
   "cell_type": "code",
   "execution_count": null,
   "metadata": {},
   "outputs": [],
   "source": [
    "score = pd.DataFrame(columns=['max_depth', 'min_samples_leaf', 'score'])\n",
    "\n",
    "for x in range(1, 21):\n",
    "    for y in range(1, 31):\n",
    "        reg_tree = DecisionTreeRegressor(random_state=42, \n",
    "                                         max_depth=x, \n",
    "                                         min_samples_leaf=y)\n",
    "        reg_tree.fit(X_train, y_train)\n",
    "        \n",
    "        score = pd.concat(objs=[score, \n",
    "                                pd.DataFrame({'max_depth': [x], \n",
    "                                              'min_samples_leaf': [y], \n",
    "                                              'score': [reg_tree.score(X=X_test, \n",
    "                                                                       y=y_test)]})], \n",
    "                          axis=0, \n",
    "                          ignore_index=True)\n",
    "        \n",
    "score.sort_values(by='score', ascending=False)"
   ]
  },
  {
   "cell_type": "markdown",
   "metadata": {},
   "source": [
    "### Rodando o modelo"
   ]
  },
  {
   "cell_type": "code",
   "execution_count": null,
   "metadata": {},
   "outputs": [],
   "source": [
    "reg_tree = DecisionTreeRegressor(random_state=42, max_depth=8, min_samples_leaf=4)\n",
    "reg_tree.fit(X_train, y_train)"
   ]
  },
  {
   "cell_type": "markdown",
   "metadata": {},
   "source": [
    "#### Visualização gráfica da árvore com plot_tree"
   ]
  },
  {
   "cell_type": "code",
   "execution_count": null,
   "metadata": {},
   "outputs": [],
   "source": [
    "plt.rc('figure', figsize=(18,9))\n",
    "\n",
    "tp = tree.plot_tree(decision_tree=reg_tree, \n",
    "                    feature_names=X.columns, \n",
    "                    filled=True)"
   ]
  },
  {
   "cell_type": "markdown",
   "metadata": {},
   "source": [
    "#### Visualização impressa da árvore"
   ]
  },
  {
   "cell_type": "code",
   "execution_count": null,
   "metadata": {},
   "outputs": [],
   "source": [
    "text_tree_print = tree.export_text(decision_tree=reg_tree)\n",
    "\n",
    "print(text_tree_print)"
   ]
  },
  {
   "cell_type": "markdown",
   "metadata": {},
   "source": [
    "## Etapa 5 Crisp-DM: Avaliação dos resultados "
   ]
  },
  {
   "cell_type": "code",
   "execution_count": null,
   "metadata": {},
   "outputs": [],
   "source": [
    "r2_train = reg_tree.score(X=X_train, y=y_train)\n",
    "r2_test = reg_tree.score(X=X_test, y=y_test)\n",
    "\n",
    "template = 'O coeficiente de determinação (𝑅2) da árvore com profundidade = {0} para a base de {1} é: {2:.2f}'\n",
    "\n",
    "print(template.format(reg_tree.get_depth(), 'treino', r2_train).replace(\".\", \",\"))\n",
    "print(template.format(reg_tree.get_depth(), 'teste', r2_test).replace(\".\", \",\"), '\\n')"
   ]
  },
  {
   "cell_type": "code",
   "execution_count": null,
   "metadata": {},
   "outputs": [],
   "source": [
    "renda['renda_predict'] = np.round(reg_tree.predict(X), 2)\n",
    "renda[['renda', 'renda_predict']]"
   ]
  },
  {
   "cell_type": "markdown",
   "metadata": {},
   "source": [
    "---"
   ]
  },
  {
   "cell_type": "markdown",
   "metadata": {},
   "source": [
    "## Etapa 6 Crisp-DM: Implantação"
   ]
  },
  {
   "cell_type": "markdown",
   "metadata": {},
   "source": [
    "Neste cenário foi desenvolvida uma calculadora simples para a simulação das condições de crédito, baseando-se em todo o entendimento que foi feito sobre este modelo ao longo da trajetória da analise"
   ]
  },
  {
   "cell_type": "markdown",
   "metadata": {},
   "source": [
    "### [Simulando a previsão de renda](https://rhatiro-ebac-projeto02-previsao-renda.streamlit.app/~/+/Simulac%CC%A7a%CC%83o)"
   ]
  },
  {
   "cell_type": "code",
   "execution_count": null,
   "metadata": {},
   "outputs": [],
   "source": [
    "entrada = pd.DataFrame([{'sexo': 'M', \n",
    "                         'posse_de_veiculo': False, \n",
    "                         'posse_de_imovel': True, \n",
    "                         'qtd_filhos': 1, \n",
    "                         'tipo_renda': 'Assalariado', \n",
    "                         'educacao': 'Superior completo', \n",
    "                         'estado_civil': 'Solteiro', \n",
    "                         'tipo_residencia': 'Casa', \n",
    "                         'idade': 34, \n",
    "                         'tempo_emprego': None, \n",
    "                         'qt_pessoas_residencia': 1}])\n",
    "entrada = pd.concat([X, pd.get_dummies(entrada)]).fillna(value=0).tail(1)\n",
    "print(f\"Renda estimada: R${str(np.round(reg_tree.predict(entrada).item(), 2)).replace('.', ',')}\")"
   ]
  }
 ],
 "metadata": {
  "kernelspec": {
   "display_name": "Python 3 (ipykernel)",
   "language": "python",
   "name": "python3"
  },
  "language_info": {
   "codemirror_mode": {
    "name": "ipython",
    "version": 3
   },
   "file_extension": ".py",
   "mimetype": "text/x-python",
   "name": "python",
   "nbconvert_exporter": "python",
   "pygments_lexer": "ipython3",
   "version": "3.11.8"
  },
  "varInspector": {
   "cols": {
    "lenName": 16,
    "lenType": 16,
    "lenVar": 40
   },
   "kernels_config": {
    "python": {
     "delete_cmd_postfix": "",
     "delete_cmd_prefix": "del ",
     "library": "var_list.py",
     "varRefreshCmd": "print(var_dic_list())"
    },
    "r": {
     "delete_cmd_postfix": ") ",
     "delete_cmd_prefix": "rm(",
     "library": "var_list.r",
     "varRefreshCmd": "cat(var_dic_list()) "
    }
   },
   "types_to_exclude": [
    "module",
    "function",
    "builtin_function_or_method",
    "instance",
    "_Feature"
   ],
   "window_display": false
  }
 },
 "nbformat": 4,
 "nbformat_minor": 4
}
